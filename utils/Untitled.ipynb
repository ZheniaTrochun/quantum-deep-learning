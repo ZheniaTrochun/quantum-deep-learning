{
 "cells": [
  {
   "cell_type": "code",
   "execution_count": 1,
   "metadata": {},
   "outputs": [],
   "source": [
    "import statistics\n",
    "\n",
    "def calculate_stats(cross_validation_results):\n",
    "#     train_losses = [v['train_loss'] for (k, v) in cross_validation_results.items()]\n",
    "#     val_losses = [v['val_loss'] for (k, v) in cross_validation_results.items()]\n",
    "    train_accs = [v['train_acc'] for (k, v) in cross_validation_results.items()]\n",
    "    val_accs = [v['val_acc'] for (k, v) in cross_validation_results.items()]\n",
    "    \n",
    "    return {\n",
    "#         'mean_train_loss': (sum(train_losses) / len(train_losses)),\n",
    "#         'mean_val_loss': (sum(val_losses) / len(val_losses)),\n",
    "        'mean_train_acc': (sum(train_accs) / len(train_accs)),\n",
    "        'mean_val_acc': (sum(val_accs) / len(val_accs)),\n",
    "#         'std_train_loss': statistics.stdev(train_losses),\n",
    "#         'std_val_loss': statistics.stdev(val_losses),\n",
    "        'std_train_acc': statistics.stdev(train_accs),\n",
    "        'std_val_acc': statistics.stdev(val_accs)\n",
    "    }"
   ]
  },
  {
   "cell_type": "code",
   "execution_count": 2,
   "metadata": {},
   "outputs": [],
   "source": [
    "stats = {\n",
    "    0: {'train_acc': 51.0, 'val_acc': 49.65}, \n",
    "    1: {'train_acc': 50.46875, 'val_acc': 49.3}, \n",
    "    2: {'train_acc': 50.46875, 'val_acc': 49.3},\n",
    "    3: {'train_acc': 50.46875, 'val_acc': 50.25} \n",
    "# #     4: {'train_loss': 1.8904157172356333, 'val_loss': 1.9084087473154068, 'train_acc': 86.42857142857143, 'val_acc': 79.5}\n",
    "}"
   ]
  },
  {
   "cell_type": "code",
   "execution_count": 3,
   "metadata": {},
   "outputs": [],
   "source": [
    "# stats = {0: {'train_loss': 1.9380715573259761, 'val_loss': 1.9307726571559907, 'train_acc': 25.785714285714285, 'val_acc': 25.4}, 1: {'train_loss': 1.9168481349519322, 'val_loss': 1.950907446861267, 'train_acc': 30.857142857142858, 'val_acc': 27.4}, 2: {'train_loss': 1.9122480664508683, 'val_loss': 1.9069988141059875, 'train_acc': 30.0, 'val_acc': 30.6}, 3: {'train_loss': 1.9401747615848268, 'val_loss': 2.039515556097031, 'train_acc': 26.75, 'val_acc': 17.6}, 4: {'train_loss': 1.887612849005631, 'val_loss': 1.901708432674408, 'train_acc': 33.82142857142857, 'val_acc': 32.0}}"
   ]
  },
  {
   "cell_type": "code",
   "execution_count": 10,
   "metadata": {},
   "outputs": [],
   "source": [
    "stats = {0: {'train_loss': 0.6161167196556926, 'val_loss': 0.5899561709165573, 'train_acc': 68.25, 'val_acc': 77.0}, 1: {'train_loss': 0.6346678789332509, 'val_loss': 0.5693898048996925, 'train_acc': 66.875, 'val_acc': 90.0}, 2: {'train_loss': 0.6167125742509961, 'val_loss': 0.5613680174946785, 'train_acc': 69.0, 'val_acc': 83.0}, 3: {'train_loss': 0.6931471824645996, 'val_loss': 0.6931471824645996, 'train_acc': 48.625, 'val_acc': 46.0}, 4: {'train_loss': 0.6301175970956683, 'val_loss': 0.5645049020648003, 'train_acc': 68.0, 'val_acc': 84.0}}"
   ]
  },
  {
   "cell_type": "code",
   "execution_count": 5,
   "metadata": {},
   "outputs": [],
   "source": [
    "# stats = {0: {'train_loss': 0.7860698715967753, 'val_loss': 1.442564193239048, 'train_acc': 76.57142857142857, 'val_acc': 68.0}, 1: {'train_loss': 0.8264970329639336, 'val_loss': 0.9819843961291063, 'train_acc': 73.53571428571429, 'val_acc': 69.8}, 2: {'train_loss': 0.7317955577465419, 'val_loss': 0.9251587593056035, 'train_acc': 76.10714285714286, 'val_acc': 74.2}, 3: {'train_loss': 0.9328974618435385, 'val_loss': 1.151287755007669, 'train_acc': 69.60714285714286, 'val_acc': 71.0}, 4: {'train_loss': 0.9676881640782267, 'val_loss': 1.1105692062918429, 'train_acc': 69.46428571428571, 'val_acc': 67.6}}\n",
    "\n",
    "# stats = {0: {'train_loss': 3.36231656398092, 'val_loss': 3.372322593212128, 'train_acc': 44.607142857142854, 'val_acc': 39.4}, 1: {'train_loss': 3.349090233530317, 'val_loss': 3.3627653465270995, 'train_acc': 49.892857142857146, 'val_acc': 44.8}, 2: {'train_loss': 3.443503023386002, 'val_loss': 3.44381765794754, 'train_acc': 53.785714285714285, 'val_acc': 51.2}, 3: {'train_loss': 3.338053859046527, 'val_loss': 3.3421527581214905, 'train_acc': 60.67857142857143, 'val_acc': 56.8}, 4: {'train_loss': 3.4439706824507033, 'val_loss': 3.4438052968978883, 'train_acc': 32.17857142857143, 'val_acc': 35.4}}"
   ]
  },
  {
   "cell_type": "code",
   "execution_count": 6,
   "metadata": {},
   "outputs": [],
   "source": [
    "# stats = {0: {'train_loss': 0.9231558479962757, 'val_loss': 1.1006043499892388, 'train_acc': 67.85714285714286, 'val_acc': 69.5}, 1: {'train_loss': 0.5241106551290577, 'val_loss': 1.1424112308027004, 'train_acc': 84.01785714285714, 'val_acc': 73.75}, 2: {'train_loss': 0.7023383718109875, 'val_loss': 0.9318156110446489, 'train_acc': 78.97321428571429, 'val_acc': 69.75}, 3: {'train_loss': 0.6099626374353898, 'val_loss': 1.1613479007880785, 'train_acc': 81.42857142857143, 'val_acc': 71.25}, 4: {'train_loss': 0.5487743791829116, 'val_loss': 0.8964178576958107, 'train_acc': 82.90178571428571, 'val_acc': 71.75}}\n"
   ]
  },
  {
   "cell_type": "code",
   "execution_count": 7,
   "metadata": {},
   "outputs": [],
   "source": [
    "# stats = {0: {'train_loss': 0.5841327198290807, 'val_loss': 0.7573343722236048, 'train_acc': 77.08333333333333, 'val_acc': 76.0}, 1: {'train_loss': 0.6671717449840626, 'val_loss': 0.6567217989955088, 'train_acc': 77.08333333333333, 'val_acc': 78.33333333333333}, 2: {'train_loss': 0.5782302302519153, 'val_loss': 0.9025848889351558, 'train_acc': 79.70238095238095, 'val_acc': 75.66666666666667}, 3: {'train_loss': 0.74035686105107, 'val_loss': 0.9850189848740255, 'train_acc': 70.47619047619048, 'val_acc': 69.33333333333333}, 4: {'train_loss': 0.6107697777773988, 'val_loss': 0.5778571677350995, 'train_acc': 77.26190476190476, 'val_acc': 82.66666666666667}}\n",
    "\n",
    "# stats = { 1: {'train_loss': 2.6418536273496493, 'val_loss': 2.657272074818611, 'train_acc': 62.276785714285715, 'val_acc': 55.5}, 3: {'train_loss': 2.6491721194769653, 'val_loss': 2.65365892291069, 'train_acc': 57.276785714285715, 'val_acc': 54.25}, 4: {'train_loss': 2.639190219023398, 'val_loss': 2.650477047562599, 'train_acc': 62.94642857142857, 'val_acc': 58.0}}"
   ]
  },
  {
   "cell_type": "code",
   "execution_count": 8,
   "metadata": {},
   "outputs": [],
   "source": [
    "# stats = {0: {'train_loss': 0.8028857181921593, 'val_loss': 0.7180843342270237, 'train_acc': 66.16071428571429, 'val_acc': 71.0}, 1: {'train_loss': 0.8521026843729522, 'val_loss': 0.8329405584699816, 'train_acc': 63.92857142857143, 'val_acc': 62.0}, 2: {'train_loss': 0.8328416322232219, 'val_loss': 0.819950867574662, 'train_acc': 65.44642857142857, 'val_acc': 67.0}, 3: {'train_loss': 0.7944640145577432, 'val_loss': 0.665389313689283, 'train_acc': 64.91071428571429, 'val_acc': 73.5}, 4: {'train_loss': 0.7985506702384741, 'val_loss': 0.8363843706669195, 'train_acc': 67.41071428571429, 'val_acc': 63.5}}"
   ]
  },
  {
   "cell_type": "code",
   "execution_count": 11,
   "metadata": {},
   "outputs": [
    {
     "name": "stdout",
     "output_type": "stream",
     "text": [
      "{'mean_train_acc': 64.15, 'mean_val_acc': 76.0, 'std_train_acc': 8.712150279925158, 'std_val_acc': 17.392527130926087}\n"
     ]
    }
   ],
   "source": [
    "calculated_stats = calculate_stats(stats)\n",
    "\n",
    "print(calculated_stats)"
   ]
  },
  {
   "cell_type": "code",
   "execution_count": null,
   "metadata": {},
   "outputs": [],
   "source": []
  }
 ],
 "metadata": {
  "kernelspec": {
   "display_name": "Python 3",
   "language": "python",
   "name": "python3"
  },
  "language_info": {
   "codemirror_mode": {
    "name": "ipython",
    "version": 3
   },
   "file_extension": ".py",
   "mimetype": "text/x-python",
   "name": "python",
   "nbconvert_exporter": "python",
   "pygments_lexer": "ipython3",
   "version": "3.8.6"
  }
 },
 "nbformat": 4,
 "nbformat_minor": 4
}
