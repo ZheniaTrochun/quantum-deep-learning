{
 "cells": [
  {
   "cell_type": "code",
   "execution_count": 1,
   "metadata": {},
   "outputs": [
    {
     "name": "stdout",
     "output_type": "stream",
     "text": [
      "Requirement already satisfied: torch in /usr/local/Cellar/jupyterlab/2.2.8/libexec/lib/python3.8/site-packages (1.7.1)\n",
      "Requirement already satisfied: numpy in /usr/local/Cellar/jupyterlab/2.2.8/libexec/lib/python3.8/site-packages (from torch) (1.19.2)\n",
      "Requirement already satisfied: typing-extensions in /usr/local/Cellar/jupyterlab/2.2.8/libexec/lib/python3.8/site-packages (from torch) (3.7.4.3)\n",
      "\u001b[33mWARNING: You are using pip version 20.2.3; however, version 21.1.1 is available.\n",
      "You should consider upgrading via the '/usr/local/Cellar/jupyterlab/2.2.8/libexec/bin/python3.8 -m pip install --upgrade pip' command.\u001b[0m\n",
      "Requirement already satisfied: qiskit in /usr/local/Cellar/jupyterlab/2.2.8/libexec/lib/python3.8/site-packages (0.23.2)\n",
      "Requirement already satisfied: qiskit-ibmq-provider==0.11.1 in /usr/local/Cellar/jupyterlab/2.2.8/libexec/lib/python3.8/site-packages (from qiskit) (0.11.1)\n",
      "Requirement already satisfied: qiskit-aer==0.7.2 in /usr/local/Cellar/jupyterlab/2.2.8/libexec/lib/python3.8/site-packages (from qiskit) (0.7.2)\n",
      "Requirement already satisfied: qiskit-aqua==0.8.1 in /usr/local/Cellar/jupyterlab/2.2.8/libexec/lib/python3.8/site-packages (from qiskit) (0.8.1)\n",
      "Requirement already satisfied: qiskit-terra==0.16.1 in /usr/local/Cellar/jupyterlab/2.2.8/libexec/lib/python3.8/site-packages (from qiskit) (0.16.1)\n",
      "Requirement already satisfied: qiskit-ignis==0.5.1 in /usr/local/Cellar/jupyterlab/2.2.8/libexec/lib/python3.8/site-packages (from qiskit) (0.5.1)\n",
      "Requirement already satisfied: nest-asyncio!=1.1.0,>=1.0.0 in /usr/local/Cellar/jupyterlab/2.2.8/libexec/lib/python3.8/site-packages (from qiskit-ibmq-provider==0.11.1->qiskit) (1.4.0)\n",
      "Requirement already satisfied: numpy>=1.13 in /usr/local/Cellar/jupyterlab/2.2.8/libexec/lib/python3.8/site-packages (from qiskit-ibmq-provider==0.11.1->qiskit) (1.19.2)\n",
      "Requirement already satisfied: websockets>=8 in /usr/local/Cellar/jupyterlab/2.2.8/libexec/lib/python3.8/site-packages (from qiskit-ibmq-provider==0.11.1->qiskit) (8.1)\n",
      "Requirement already satisfied: requests>=2.19 in /usr/local/Cellar/jupyterlab/2.2.8/libexec/lib/python3.8/site-packages (from qiskit-ibmq-provider==0.11.1->qiskit) (2.24.0)\n",
      "Requirement already satisfied: urllib3>=1.21.1 in /usr/local/Cellar/jupyterlab/2.2.8/libexec/lib/python3.8/site-packages (from qiskit-ibmq-provider==0.11.1->qiskit) (1.25.10)\n",
      "Requirement already satisfied: python-dateutil>=2.8.0 in /usr/local/Cellar/jupyterlab/2.2.8/libexec/lib/python3.8/site-packages (from qiskit-ibmq-provider==0.11.1->qiskit) (2.8.1)\n",
      "Requirement already satisfied: requests-ntlm>=1.1.0 in /usr/local/Cellar/jupyterlab/2.2.8/libexec/lib/python3.8/site-packages (from qiskit-ibmq-provider==0.11.1->qiskit) (1.1.0)\n",
      "Requirement already satisfied: scipy>=1.0 in /usr/local/Cellar/jupyterlab/2.2.8/libexec/lib/python3.8/site-packages (from qiskit-aer==0.7.2->qiskit) (1.5.2)\n",
      "Requirement already satisfied: cython>=0.27.1 in /usr/local/Cellar/jupyterlab/2.2.8/libexec/lib/python3.8/site-packages (from qiskit-aer==0.7.2->qiskit) (0.29.21)\n",
      "Requirement already satisfied: pybind11>=2.4 in /usr/local/Cellar/jupyterlab/2.2.8/libexec/lib/python3.8/site-packages (from qiskit-aer==0.7.2->qiskit) (2.6.1)\n",
      "Requirement already satisfied: h5py in /usr/local/Cellar/jupyterlab/2.2.8/libexec/lib/python3.8/site-packages (from qiskit-aqua==0.8.1->qiskit) (2.10.0)\n",
      "Requirement already satisfied: psutil>=5 in /usr/local/Cellar/jupyterlab/2.2.8/libexec/lib/python3.8/site-packages (from qiskit-aqua==0.8.1->qiskit) (5.8.0)\n",
      "Requirement already satisfied: setuptools>=40.1.0 in /usr/local/Cellar/jupyterlab/2.2.8/libexec/lib/python3.8/site-packages (from qiskit-aqua==0.8.1->qiskit) (50.3.0)\n",
      "Requirement already satisfied: sympy>=1.3 in /usr/local/Cellar/jupyterlab/2.2.8/libexec/lib/python3.8/site-packages (from qiskit-aqua==0.8.1->qiskit) (1.7.1)\n",
      "Requirement already satisfied: dlx in /usr/local/Cellar/jupyterlab/2.2.8/libexec/lib/python3.8/site-packages (from qiskit-aqua==0.8.1->qiskit) (1.0.4)\n",
      "Requirement already satisfied: yfinance in /usr/local/Cellar/jupyterlab/2.2.8/libexec/lib/python3.8/site-packages (from qiskit-aqua==0.8.1->qiskit) (0.1.55)\n",
      "Requirement already satisfied: fastdtw in /usr/local/Cellar/jupyterlab/2.2.8/libexec/lib/python3.8/site-packages (from qiskit-aqua==0.8.1->qiskit) (0.3.4)\n",
      "Requirement already satisfied: retworkx>=0.5.0 in /usr/local/Cellar/jupyterlab/2.2.8/libexec/lib/python3.8/site-packages (from qiskit-aqua==0.8.1->qiskit) (0.7.2)\n",
      "Requirement already satisfied: pandas in /usr/local/Cellar/jupyterlab/2.2.8/libexec/lib/python3.8/site-packages (from qiskit-aqua==0.8.1->qiskit) (1.1.3)\n",
      "Requirement already satisfied: quandl in /usr/local/Cellar/jupyterlab/2.2.8/libexec/lib/python3.8/site-packages (from qiskit-aqua==0.8.1->qiskit) (3.6.0)\n",
      "Requirement already satisfied: scikit-learn>=0.20.0 in /usr/local/Cellar/jupyterlab/2.2.8/libexec/lib/python3.8/site-packages (from qiskit-aqua==0.8.1->qiskit) (0.23.2)\n",
      "Requirement already satisfied: docplex in /usr/local/Cellar/jupyterlab/2.2.8/libexec/lib/python3.8/site-packages (from qiskit-aqua==0.8.1->qiskit) (2.19.202)\n",
      "Requirement already satisfied: python-constraint>=1.4 in /usr/local/Cellar/jupyterlab/2.2.8/libexec/lib/python3.8/site-packages (from qiskit-terra==0.16.1->qiskit) (1.4.0)\n",
      "Requirement already satisfied: jsonschema>=2.6 in /usr/local/Cellar/jupyterlab/2.2.8/libexec/lib/python3.8/site-packages (from qiskit-terra==0.16.1->qiskit) (3.2.0)\n",
      "Requirement already satisfied: ply>=3.10 in /usr/local/Cellar/jupyterlab/2.2.8/libexec/lib/python3.8/site-packages (from qiskit-terra==0.16.1->qiskit) (3.11)\n",
      "Requirement already satisfied: fastjsonschema>=2.10 in /usr/local/Cellar/jupyterlab/2.2.8/libexec/lib/python3.8/site-packages (from qiskit-terra==0.16.1->qiskit) (2.14.5)\n",
      "Requirement already satisfied: networkx>=2.2 in /usr/local/Cellar/jupyterlab/2.2.8/libexec/lib/python3.8/site-packages (from qiskit-terra==0.16.1->qiskit) (2.5)\n",
      "Requirement already satisfied: dill>=0.3 in /usr/local/Cellar/jupyterlab/2.2.8/libexec/lib/python3.8/site-packages (from qiskit-terra==0.16.1->qiskit) (0.3.3)\n",
      "Requirement already satisfied: chardet<4,>=3.0.2 in /usr/local/Cellar/jupyterlab/2.2.8/libexec/lib/python3.8/site-packages (from requests>=2.19->qiskit-ibmq-provider==0.11.1->qiskit) (3.0.4)\n",
      "Requirement already satisfied: idna<3,>=2.5 in /usr/local/Cellar/jupyterlab/2.2.8/libexec/lib/python3.8/site-packages (from requests>=2.19->qiskit-ibmq-provider==0.11.1->qiskit) (2.10)\n",
      "Requirement already satisfied: certifi>=2017.4.17 in /usr/local/Cellar/jupyterlab/2.2.8/libexec/lib/python3.8/site-packages (from requests>=2.19->qiskit-ibmq-provider==0.11.1->qiskit) (2020.6.20)\n",
      "Requirement already satisfied: six>=1.5 in /usr/local/Cellar/jupyterlab/2.2.8/libexec/lib/python3.8/site-packages (from python-dateutil>=2.8.0->qiskit-ibmq-provider==0.11.1->qiskit) (1.15.0)\n",
      "Requirement already satisfied: cryptography>=1.3 in /usr/local/Cellar/jupyterlab/2.2.8/libexec/lib/python3.8/site-packages (from requests-ntlm>=1.1.0->qiskit-ibmq-provider==0.11.1->qiskit) (3.3.1)\n",
      "Requirement already satisfied: ntlm-auth>=1.0.2 in /usr/local/Cellar/jupyterlab/2.2.8/libexec/lib/python3.8/site-packages (from requests-ntlm>=1.1.0->qiskit-ibmq-provider==0.11.1->qiskit) (1.5.0)\n",
      "Requirement already satisfied: mpmath>=0.19 in /usr/local/Cellar/jupyterlab/2.2.8/libexec/lib/python3.8/site-packages (from sympy>=1.3->qiskit-aqua==0.8.1->qiskit) (1.1.0)\n",
      "Requirement already satisfied: multitasking>=0.0.7 in /usr/local/Cellar/jupyterlab/2.2.8/libexec/lib/python3.8/site-packages (from yfinance->qiskit-aqua==0.8.1->qiskit) (0.0.9)\n",
      "Requirement already satisfied: lxml>=4.5.1 in /usr/local/Cellar/jupyterlab/2.2.8/libexec/lib/python3.8/site-packages (from yfinance->qiskit-aqua==0.8.1->qiskit) (4.6.2)\n",
      "Requirement already satisfied: pytz>=2017.2 in /usr/local/Cellar/jupyterlab/2.2.8/libexec/lib/python3.8/site-packages (from pandas->qiskit-aqua==0.8.1->qiskit) (2020.1)\n",
      "Requirement already satisfied: inflection>=0.3.1 in /usr/local/Cellar/jupyterlab/2.2.8/libexec/lib/python3.8/site-packages (from quandl->qiskit-aqua==0.8.1->qiskit) (0.5.1)\n",
      "Requirement already satisfied: more-itertools in /usr/local/Cellar/jupyterlab/2.2.8/libexec/lib/python3.8/site-packages (from quandl->qiskit-aqua==0.8.1->qiskit) (8.6.0)\n",
      "Requirement already satisfied: joblib>=0.11 in /usr/local/Cellar/jupyterlab/2.2.8/libexec/lib/python3.8/site-packages (from scikit-learn>=0.20.0->qiskit-aqua==0.8.1->qiskit) (0.17.0)\n",
      "Requirement already satisfied: threadpoolctl>=2.0.0 in /usr/local/Cellar/jupyterlab/2.2.8/libexec/lib/python3.8/site-packages (from scikit-learn>=0.20.0->qiskit-aqua==0.8.1->qiskit) (2.1.0)\n",
      "Requirement already satisfied: attrs>=17.4.0 in /usr/local/Cellar/jupyterlab/2.2.8/libexec/lib/python3.8/site-packages (from jsonschema>=2.6->qiskit-terra==0.16.1->qiskit) (20.2.0)\n",
      "Requirement already satisfied: pyrsistent>=0.14.0 in /usr/local/Cellar/jupyterlab/2.2.8/libexec/lib/python3.8/site-packages (from jsonschema>=2.6->qiskit-terra==0.16.1->qiskit) (0.17.3)\n",
      "Requirement already satisfied: decorator>=4.3.0 in /usr/local/Cellar/jupyterlab/2.2.8/libexec/lib/python3.8/site-packages (from networkx>=2.2->qiskit-terra==0.16.1->qiskit) (4.4.2)\n",
      "Requirement already satisfied: cffi>=1.12 in /usr/local/Cellar/jupyterlab/2.2.8/libexec/lib/python3.8/site-packages (from cryptography>=1.3->requests-ntlm>=1.1.0->qiskit-ibmq-provider==0.11.1->qiskit) (1.14.2)\n"
     ]
    },
    {
     "name": "stdout",
     "output_type": "stream",
     "text": [
      "Requirement already satisfied: pycparser in /usr/local/Cellar/jupyterlab/2.2.8/libexec/lib/python3.8/site-packages (from cffi>=1.12->cryptography>=1.3->requests-ntlm>=1.1.0->qiskit-ibmq-provider==0.11.1->qiskit) (2.20)\n",
      "\u001b[33mWARNING: You are using pip version 20.2.3; however, version 21.1.1 is available.\n",
      "You should consider upgrading via the '/usr/local/Cellar/jupyterlab/2.2.8/libexec/bin/python3.8 -m pip install --upgrade pip' command.\u001b[0m\n",
      "Requirement already satisfied: pylatexenc in /usr/local/Cellar/jupyterlab/2.2.8/libexec/lib/python3.8/site-packages (2.8)\n",
      "\u001b[33mWARNING: You are using pip version 20.2.3; however, version 21.1.1 is available.\n",
      "You should consider upgrading via the '/usr/local/Cellar/jupyterlab/2.2.8/libexec/bin/python3.8 -m pip install --upgrade pip' command.\u001b[0m\n",
      "Requirement already satisfied: torchvision in /usr/local/Cellar/jupyterlab/2.2.8/libexec/lib/python3.8/site-packages (0.8.2)\n",
      "Requirement already satisfied: numpy in /usr/local/Cellar/jupyterlab/2.2.8/libexec/lib/python3.8/site-packages (from torchvision) (1.19.2)\n",
      "Requirement already satisfied: torch==1.7.1 in /usr/local/Cellar/jupyterlab/2.2.8/libexec/lib/python3.8/site-packages (from torchvision) (1.7.1)\n",
      "Requirement already satisfied: pillow>=4.1.1 in /usr/local/Cellar/jupyterlab/2.2.8/libexec/lib/python3.8/site-packages (from torchvision) (7.2.0)\n",
      "Requirement already satisfied: typing-extensions in /usr/local/Cellar/jupyterlab/2.2.8/libexec/lib/python3.8/site-packages (from torch==1.7.1->torchvision) (3.7.4.3)\n",
      "\u001b[33mWARNING: You are using pip version 20.2.3; however, version 21.1.1 is available.\n",
      "You should consider upgrading via the '/usr/local/Cellar/jupyterlab/2.2.8/libexec/bin/python3.8 -m pip install --upgrade pip' command.\u001b[0m\n",
      "Requirement already satisfied: numpy in /usr/local/Cellar/jupyterlab/2.2.8/libexec/lib/python3.8/site-packages (1.19.2)\n",
      "\u001b[33mWARNING: You are using pip version 20.2.3; however, version 21.1.1 is available.\n",
      "You should consider upgrading via the '/usr/local/Cellar/jupyterlab/2.2.8/libexec/bin/python3.8 -m pip install --upgrade pip' command.\u001b[0m\n",
      "Requirement already satisfied: tqdm in /usr/local/Cellar/jupyterlab/2.2.8/libexec/lib/python3.8/site-packages (4.56.0)\n",
      "\u001b[33mWARNING: You are using pip version 20.2.3; however, version 21.1.1 is available.\n",
      "You should consider upgrading via the '/usr/local/Cellar/jupyterlab/2.2.8/libexec/bin/python3.8 -m pip install --upgrade pip' command.\u001b[0m\n",
      "Requirement already satisfied: matplotlib in /usr/local/Cellar/jupyterlab/2.2.8/libexec/lib/python3.8/site-packages (3.3.2)\n",
      "Requirement already satisfied: pillow>=6.2.0 in /usr/local/Cellar/jupyterlab/2.2.8/libexec/lib/python3.8/site-packages (from matplotlib) (7.2.0)\n",
      "Requirement already satisfied: certifi>=2020.06.20 in /usr/local/Cellar/jupyterlab/2.2.8/libexec/lib/python3.8/site-packages (from matplotlib) (2020.6.20)\n",
      "Requirement already satisfied: numpy>=1.15 in /usr/local/Cellar/jupyterlab/2.2.8/libexec/lib/python3.8/site-packages (from matplotlib) (1.19.2)\n",
      "Requirement already satisfied: python-dateutil>=2.1 in /usr/local/Cellar/jupyterlab/2.2.8/libexec/lib/python3.8/site-packages (from matplotlib) (2.8.1)\n",
      "Requirement already satisfied: pyparsing!=2.0.4,!=2.1.2,!=2.1.6,>=2.0.3 in /usr/local/Cellar/jupyterlab/2.2.8/libexec/lib/python3.8/site-packages (from matplotlib) (2.4.7)\n",
      "Requirement already satisfied: cycler>=0.10 in /usr/local/Cellar/jupyterlab/2.2.8/libexec/lib/python3.8/site-packages (from matplotlib) (0.10.0)\n",
      "Requirement already satisfied: kiwisolver>=1.0.1 in /usr/local/Cellar/jupyterlab/2.2.8/libexec/lib/python3.8/site-packages (from matplotlib) (1.2.0)\n",
      "Requirement already satisfied: six>=1.5 in /usr/local/Cellar/jupyterlab/2.2.8/libexec/lib/python3.8/site-packages (from python-dateutil>=2.1->matplotlib) (1.15.0)\n",
      "\u001b[33mWARNING: You are using pip version 20.2.3; however, version 21.1.1 is available.\n",
      "You should consider upgrading via the '/usr/local/Cellar/jupyterlab/2.2.8/libexec/bin/python3.8 -m pip install --upgrade pip' command.\u001b[0m\n",
      "\u001b[31mERROR: Could not find a version that satisfies the requirement itertools (from versions: none)\u001b[0m\n",
      "\u001b[31mERROR: No matching distribution found for itertools\u001b[0m\n",
      "\u001b[33mWARNING: You are using pip version 20.2.3; however, version 21.1.1 is available.\n",
      "You should consider upgrading via the '/usr/local/Cellar/jupyterlab/2.2.8/libexec/bin/python3.8 -m pip install --upgrade pip' command.\u001b[0m\n"
     ]
    }
   ],
   "source": [
    "import sys\n",
    "\n",
    "!{sys.executable} -m pip install torch\n",
    "!{sys.executable} -m pip install qiskit\n",
    "!{sys.executable} -m pip install pylatexenc\n",
    "!{sys.executable} -m pip install torchvision\n",
    "!{sys.executable} -m pip install numpy\n",
    "!{sys.executable} -m pip install tqdm\n",
    "!{sys.executable} -m pip install matplotlib\n",
    "!{sys.executable} -m pip install itertools"
   ]
  },
  {
   "cell_type": "code",
   "execution_count": 2,
   "metadata": {},
   "outputs": [],
   "source": [
    "import torch\n",
    "from torch.autograd import Function\n",
    "import torch.optim as optim\n",
    "import torch.nn as nn"
   ]
  },
  {
   "cell_type": "code",
   "execution_count": 3,
   "metadata": {},
   "outputs": [],
   "source": [
    "from qiskit import execute\n",
    "from qiskit.circuit import Parameter,ControlledGate\n",
    "from qiskit import Aer\n",
    "import qiskit\n",
    "import numpy as np"
   ]
  },
  {
   "cell_type": "code",
   "execution_count": 4,
   "metadata": {},
   "outputs": [],
   "source": [
    "from tqdm import tqdm"
   ]
  },
  {
   "cell_type": "code",
   "execution_count": 5,
   "metadata": {},
   "outputs": [],
   "source": [
    "from matplotlib import pyplot as plt\n",
    "%matplotlib inline"
   ]
  },
  {
   "cell_type": "code",
   "execution_count": 6,
   "metadata": {},
   "outputs": [],
   "source": [
    "np.random.seed = 42\n",
    "\n",
    "NUM_QUBITS = 4\n",
    "NUM_SHOTS = 5000\n",
    "SHIFT = np.pi/4\n",
    "LEARNING_RATE = 0.01\n",
    "MOMENTUM = 0.5\n",
    "\n",
    "SIMULATOR = Aer.get_backend('qasm_simulator')"
   ]
  },
  {
   "cell_type": "code",
   "execution_count": 7,
   "metadata": {},
   "outputs": [
    {
     "name": "stdout",
     "output_type": "stream",
     "text": [
      "['0000', '0001', '0010', '0011', '0100', '0101', '0110', '0111', '1000', '1001', '1010', '1011', '1100', '1101', '1110', '1111']\n"
     ]
    }
   ],
   "source": [
    "# create list of all possible outputs of quantum circuit (2**NUM_QUBITS possible)\n",
    "import itertools\n",
    "\n",
    "def create_QC_OUTPUTS():\n",
    "    measurements = list(itertools.product([0, 1], repeat=NUM_QUBITS))\n",
    "    return [''.join([str(bit) for bit in measurement]) for measurement in measurements]\n",
    "\n",
    "QC_OUTPUTS = create_QC_OUTPUTS()\n",
    "print(QC_OUTPUTS)"
   ]
  },
  {
   "cell_type": "markdown",
   "metadata": {},
   "source": [
    "# Construct QuantumCircuit QFT Class"
   ]
  },
  {
   "cell_type": "code",
   "execution_count": 8,
   "metadata": {},
   "outputs": [],
   "source": [
    "class QuantumCircuit:\n",
    "    def __init__(self, n_qubits, backend, shots):\n",
    "        self.n_qubits = n_qubits\n",
    "        self.circuit = qiskit.QuantumCircuit(n_qubits)\n",
    "        self.thetas = { k: Parameter('Theta'+str(k)) for k in range(self.n_qubits) }\n",
    "        \n",
    "        all_qubits = [i for i in range(n_qubits)]\n",
    "        \n",
    "        self.circuit.h(all_qubits)\n",
    "        self.circuit.barrier()\n",
    "        for k in range(n_qubits):\n",
    "            self.circuit.ry(self.thetas[k], k)\n",
    "            \n",
    "        self.circuit.measure_all()\n",
    "        \n",
    "        self.backend = backend\n",
    "        self.shots = shots\n",
    "        \n",
    "    def N_qubits_expectation_Z(self, counts, shots, n_qubits):\n",
    "        expects = np.zeros(len(QC_OUTPUTS))\n",
    "        for k in range(len(QC_OUTPUTS)):\n",
    "            key = QC_OUTPUTS[k]\n",
    "            perc = counts.get(key, 0) / shots\n",
    "            expects[k] = perc\n",
    "        return expects\n",
    "    \n",
    "    def run(self, i):\n",
    "        params = i\n",
    "        \n",
    "        job_sim = execute(self.circuit, \n",
    "                          self.backend, \n",
    "                          shots = self.shots, \n",
    "                          parameter_binds = [{ self.thetas[k]: params[k].item() for k in range(self.n_qubits) }])\n",
    "        \n",
    "        result_sim = job_sim.result()\n",
    "        counts = result_sim.get_counts(self.circuit)\n",
    "        \n",
    "        return self.N_qubits_expectation_Z(counts, self.shots, self.n_qubits)"
   ]
  },
  {
   "cell_type": "code",
   "execution_count": 9,
   "metadata": {},
   "outputs": [
    {
     "name": "stdout",
     "output_type": "stream",
     "text": [
      "Expected value for rotation [pi/4]: [4.000e-04 3.000e-03 2.800e-03 1.440e-02 1.800e-03 1.580e-02 2.160e-02\n",
      " 9.680e-02 2.200e-03 1.140e-02 1.480e-02 9.260e-02 1.620e-02 8.960e-02\n",
      " 8.420e-02 5.324e-01]\n"
     ]
    },
    {
     "data": {
      "image/png": "[encoded data removed]",
      "text/plain": [
       "<Figure size 598.479x325.08 with 1 Axes>"
      ]
     },
     "execution_count": 9,
     "metadata": {},
     "output_type": "execute_result"
    }
   ],
   "source": [
    "circuit = QuantumCircuit(NUM_QUBITS, SIMULATOR, NUM_SHOTS)\n",
    "print(f'Expected value for rotation [pi/4]: {circuit.run(torch.Tensor([np.pi/4] * len(QC_OUTPUTS)))}')\n",
    "circuit.circuit.draw(output='mpl')"
   ]
  },
  {
   "cell_type": "code",
   "execution_count": 10,
   "metadata": {},
   "outputs": [],
   "source": [
    "class TorchCircuit(Function):\n",
    "    @staticmethod\n",
    "    def forward(ctx, i):\n",
    "        if not hasattr(ctx, 'QuantumCircuit'):\n",
    "            ctx.QuantumCircuit = QuantumCircuit(NUM_QUBITS, SIMULATOR, shots=NUM_SHOTS)\n",
    "        \n",
    "        exp_value = ctx.QuantumCircuit.run(i)\n",
    "        \n",
    "        result = torch.Tensor([exp_value])\n",
    "        \n",
    "        ctx.save_for_backward(result, i)\n",
    "        \n",
    "        return result\n",
    "    \n",
    "    @staticmethod\n",
    "    def backward(ctx, grad_output):\n",
    "        forward_tensor,i = ctx.saved_tensors\n",
    "        \n",
    "        input_numbers = i\n",
    "        gradients = torch.Tensor()\n",
    "        \n",
    "        for k in range(NUM_QUBITS):\n",
    "            shift_right = input_numbers.detach().clone()\n",
    "            shift_right[k] = shift_right[k] + SHIFT\n",
    "            \n",
    "            shift_left = input_numbers.detach().clone()\n",
    "            shift_left[k] = shift_left[k] - SHIFT\n",
    "            \n",
    "            expectation_right = ctx.QuantumCircuit.run(shift_right)\n",
    "            expectation_left = ctx.QuantumCircuit.run(shift_left)\n",
    "            \n",
    "            gradient = torch.tensor([expectation_right]) - torch.tensor([expectation_left])\n",
    "            gradient = gradient / torch.norm(gradient)\n",
    "            \n",
    "            gradients = torch.cat((gradients, gradient.float()))\n",
    "            \n",
    "        result = torch.Tensor(gradients)\n",
    "        \n",
    "        return (result.float() * grad_output.float()).T"
   ]
  },
  {
   "cell_type": "code",
   "execution_count": 11,
   "metadata": {},
   "outputs": [
    {
     "name": "stdout",
     "output_type": "stream",
     "text": [
      "y1 after quantum layer: tensor([[4.0000e-04, 1.4000e-03, 1.8000e-03, 1.7200e-02, 2.6000e-03, 1.8800e-02,\n",
      "         1.5600e-02, 8.8600e-02, 2.6000e-03, 1.6400e-02, 1.5000e-02, 9.7000e-02,\n",
      "         1.4200e-02, 8.4400e-02, 9.0000e-02, 5.3400e-01]],\n",
      "       grad_fn=<TorchCircuitBackward>)\n",
      "x.grad = tensor([ 0.1327, -0.1909,  0.0661,  0.0195])\n"
     ]
    }
   ],
   "source": [
    "x = torch.tensor([np.pi/4] * NUM_QUBITS, requires_grad=True)\n",
    "qc = TorchCircuit.apply\n",
    "\n",
    "y1 = qc(x)\n",
    "print(f'y1 after quantum layer: {y1}')\n",
    "y1 = nn.Linear(2**NUM_QUBITS, 1)(y1.float())\n",
    "\n",
    "y1.backward()\n",
    "print(f'x.grad = {x.grad}')"
   ]
  },
  {
   "cell_type": "code",
   "execution_count": 12,
   "metadata": {},
   "outputs": [
    {
     "name": "stderr",
     "output_type": "stream",
     "text": [
      "100%|██████████| 100/100 [00:15<00:00,  6.53it/s]\n"
     ]
    },
    {
     "data": {
      "text/plain": [
       "[<matplotlib.lines.Line2D at 0x140a77cd0>]"
      ]
     },
     "execution_count": 12,
     "metadata": {},
     "output_type": "execute_result"
    },
    {
     "data": {
      "image/png": "[encoded data removed]",
      "text/plain": [
       "<Figure size 432x288 with 1 Axes>"
      ]
     },
     "metadata": {
      "needs_background": "light"
     },
     "output_type": "display_data"
    }
   ],
   "source": [
    "qc = TorchCircuit.apply\n",
    "\n",
    "def cost(x):\n",
    "    target = -1\n",
    "    expval = qc(x)[0]\n",
    "    \n",
    "    val = sum([(i + 1) * expval[i] for i in range(2**NUM_QUBITS)]) / 2**NUM_QUBITS\n",
    "    \n",
    "    return torch.abs(target - val) ** 2, expval\n",
    "\n",
    "\n",
    "x = torch.tensor([np.pi/4] * NUM_QUBITS, requires_grad=True)\n",
    "opt = optim.Adam([x], lr = 0.1)\n",
    "\n",
    "num_epoch = 100\n",
    "\n",
    "loss_list = []\n",
    "expval_list = []\n",
    "\n",
    "for i in tqdm(range(num_epoch)):\n",
    "    opt.zero_grad()\n",
    "    loss, expval = cost(x)\n",
    "    loss.backward()\n",
    "    \n",
    "    opt.step()\n",
    "    loss_list.append(loss.item())\n",
    "    expval_list.append(expval)\n",
    "    \n",
    "plt.plot(loss_list)"
   ]
  },
  {
   "cell_type": "code",
   "execution_count": 13,
   "metadata": {},
   "outputs": [],
   "source": [
    "from torch.functional import F"
   ]
  },
  {
   "cell_type": "code",
   "execution_count": 37,
   "metadata": {},
   "outputs": [],
   "source": [
    "import numpy as np\n",
    "import torchvision\n",
    "from torchvision import datasets, transforms\n",
    "\n",
    "n_samples = 150\n",
    "\n",
    "X_train = datasets.FashionMNIST(root='./data', \n",
    "                                train=True,\n",
    "                                download=True,\n",
    "                                transform=transforms.Compose([transforms.ToTensor()]))\n",
    "\n",
    "idx = np.append(np.where(X_train.targets == 0)[0][:n_samples], \n",
    "                np.where(X_train.targets == 1)[0][:n_samples])\n",
    "idx = np.append(idx, \n",
    "                np.where(X_train.targets == 2)[0][:n_samples])\n",
    "idx = np.append(idx, \n",
    "                np.where(X_train.targets == 3)[0][:n_samples])\n",
    "idx = np.append(idx, \n",
    "                np.where(X_train.targets == 4)[0][:n_samples])\n",
    "idx = np.append(idx, \n",
    "                np.where(X_train.targets == 5)[0][:n_samples])\n",
    "idx = np.append(idx, \n",
    "                np.where(X_train.targets == 6)[0][:n_samples])\n",
    "idx = np.append(idx, \n",
    "                np.where(X_train.targets == 7)[0][:n_samples])\n",
    "idx = np.append(idx, \n",
    "                np.where(X_train.targets == 8)[0][:n_samples])\n",
    "idx = np.append(idx, \n",
    "                np.where(X_train.targets == 9)[0][:n_samples])\n",
    "\n",
    "X_train.data = X_train.data[idx]\n",
    "X_train.targets = X_train.targets[idx]"
   ]
  },
  {
   "cell_type": "code",
   "execution_count": 38,
   "metadata": {},
   "outputs": [],
   "source": [
    "train_loader = torch.utils.data.DataLoader(X_train, batch_size=1, shuffle=True, pin_memory=True)"
   ]
  },
  {
   "cell_type": "code",
   "execution_count": 16,
   "metadata": {},
   "outputs": [],
   "source": [
    "n_samples = 100\n",
    "\n",
    "X_test = datasets.FashionMNIST(root='./data', \n",
    "                               train=False,\n",
    "                               download=True,\n",
    "                               transform=transforms.Compose([transforms.ToTensor()]))\n",
    "\n",
    "idx = np.append(np.where(X_test.targets == 0)[0][:n_samples], \n",
    "                np.where(X_test.targets == 1)[0][:n_samples])\n",
    "idx = np.append(idx, \n",
    "                np.where(X_test.targets == 2)[0][:n_samples])\n",
    "idx = np.append(idx, \n",
    "                np.where(X_test.targets == 3)[0][:n_samples])\n",
    "idx = np.append(idx, \n",
    "                np.where(X_test.targets == 4)[0][:n_samples])\n",
    "idx = np.append(idx, \n",
    "                np.where(X_test.targets == 5)[0][:n_samples])\n",
    "idx = np.append(idx, \n",
    "                np.where(X_test.targets == 6)[0][:n_samples])\n",
    "idx = np.append(idx, \n",
    "                np.where(X_test.targets == 7)[0][:n_samples])\n",
    "idx = np.append(idx, \n",
    "                np.where(X_test.targets == 8)[0][:n_samples])\n",
    "idx = np.append(idx, \n",
    "                np.where(X_test.targets == 9)[0][:n_samples])\n",
    "\n",
    "X_test.data = X_test.data[idx]\n",
    "X_test.targets = X_test.targets[idx]"
   ]
  },
  {
   "cell_type": "code",
   "execution_count": 17,
   "metadata": {},
   "outputs": [],
   "source": [
    "test_loader = torch.utils.data.DataLoader(X_test, batch_size=1, shuffle=True)"
   ]
  },
  {
   "cell_type": "markdown",
   "metadata": {},
   "source": [
    "# Building network"
   ]
  },
  {
   "cell_type": "code",
   "execution_count": 18,
   "metadata": {},
   "outputs": [],
   "source": [
    "class Net(nn.Module):\n",
    "    def __init__(self):\n",
    "        super(Net, self).__init__()\n",
    "        self.conv1 = nn.Conv2d(1, 10, kernel_size=5)\n",
    "        self.conv2 = nn.Conv2d(10, 20, kernel_size=5)\n",
    "        self.conv2_drop = nn.Dropout2d()\n",
    "        self.fc1 = nn.Linear(320, 50)\n",
    "        self.fc2 = nn.Linear(50, NUM_QUBITS)\n",
    "        self.qc = TorchCircuit.apply\n",
    "        self.qcsim = nn.Linear(NUM_QUBITS, 2**NUM_QUBITS)\n",
    "        self.fc3 = nn.Linear(1, 3) # todo: is it correct???\n",
    "        \n",
    "        \n",
    "    def forward(self, x):\n",
    "        x = F.relu(F.max_pool2d(self.conv1(x), 2))\n",
    "        x = F.relu(F.max_pool2d(self.conv2_drop(self.conv2(x)), 2))\n",
    "        x = x.view(-1, 320)\n",
    "        x = F.relu(self.fc1(x))\n",
    "        x = F.dropout(x, training=self.training)\n",
    "        x = self.fc2(x)\n",
    "        x = np.pi*torch.tanh(x)\n",
    "        \n",
    "        MODE = 'QC'\n",
    "        \n",
    "        if MODE == 'QC':\n",
    "            x = self.qc(x[0])\n",
    "        else:\n",
    "            x = self.qcsim(x)\n",
    "            \n",
    "        x = torch.sigmoid(x)\n",
    "        x = torch.cat((x, 1-x), -1)\n",
    "        \n",
    "        return x\n",
    "    \n",
    "    \n",
    "    def predict(self, x):\n",
    "        \n",
    "        pred = self.forward(x)\n",
    "        ans = torch.argmax(pred[0]).item()\n",
    "        \n",
    "        return torch.tensor(ans)\n",
    "    \n",
    "network = Net()\n",
    "optimizer = optim.Adam(network.parameters(), lr=0.001)"
   ]
  },
  {
   "cell_type": "code",
   "execution_count": 39,
   "metadata": {},
   "outputs": [
    {
     "name": "stdout",
     "output_type": "stream",
     "text": [
      "Training [4%]\n",
      "Training loss {'train': [3.419082154750824], 'val': [3.4106269385814665]}\n",
      "Training [8%]\n",
      "Training loss {'train': [3.419082154750824, 3.4161743919054666], 'val': [3.4106269385814665, 3.4110558259487154]}\n",
      "Training [12%]\n",
      "Training loss {'train': [3.419082154750824, 3.4161743919054666, 3.414167223453522], 'val': [3.4106269385814665, 3.4110558259487154, 3.4131155688762664]}\n",
      "Training [16%]\n",
      "Training loss {'train': [3.419082154750824, 3.4161743919054666, 3.414167223453522, 3.4121784661610923], 'val': [3.4106269385814665, 3.4110558259487154, 3.4131155688762664, 3.394641937017441]}\n",
      "Training [20%]\n",
      "Training loss {'train': [3.419082154750824, 3.4161743919054666, 3.414167223453522, 3.4121784661610923, 3.4076741399765016], 'val': [3.4106269385814665, 3.4110558259487154, 3.4131155688762664, 3.394641937017441, 3.4037806293964388]}\n",
      "Training [24%]\n",
      "Training loss {'train': [3.419082154750824, 3.4161743919054666, 3.414167223453522, 3.4121784661610923, 3.4076741399765016, 3.405198483308156], 'val': [3.4106269385814665, 3.4110558259487154, 3.4131155688762664, 3.394641937017441, 3.4037806293964388, 3.396805992603302]}\n",
      "Training [28%]\n",
      "Training loss {'train': [3.419082154750824, 3.4161743919054666, 3.414167223453522, 3.4121784661610923, 3.4076741399765016, 3.405198483308156, 3.401854342778524], 'val': [3.4106269385814665, 3.4110558259487154, 3.4131155688762664, 3.394641937017441, 3.4037806293964388, 3.396805992603302, 3.39899422621727]}\n",
      "Training [32%]\n",
      "Training loss {'train': [3.419082154750824, 3.4161743919054666, 3.414167223453522, 3.4121784661610923, 3.4076741399765016, 3.405198483308156, 3.401854342778524, 3.402951658566793], 'val': [3.4106269385814665, 3.4110558259487154, 3.4131155688762664, 3.394641937017441, 3.4037806293964388, 3.396805992603302, 3.39899422621727, 3.3964700493812563]}\n",
      "Training [36%]\n",
      "Training loss {'train': [3.419082154750824, 3.4161743919054666, 3.414167223453522, 3.4121784661610923, 3.4076741399765016, 3.405198483308156, 3.401854342778524, 3.402951658566793, 3.3966951292355856], 'val': [3.4106269385814665, 3.4110558259487154, 3.4131155688762664, 3.394641937017441, 3.4037806293964388, 3.396805992603302, 3.39899422621727, 3.3964700493812563, 3.391000623703003]}\n",
      "Training [40%]\n",
      "Training loss {'train': [3.419082154750824, 3.4161743919054666, 3.414167223453522, 3.4121784661610923, 3.4076741399765016, 3.405198483308156, 3.401854342778524, 3.402951658566793, 3.3966951292355856, 3.3990594046910605], 'val': [3.4106269385814665, 3.4110558259487154, 3.4131155688762664, 3.394641937017441, 3.4037806293964388, 3.396805992603302, 3.39899422621727, 3.3964700493812563, 3.391000623703003, 3.3899047250747683]}\n",
      "Training [44%]\n",
      "Training loss {'train': [3.419082154750824, 3.4161743919054666, 3.414167223453522, 3.4121784661610923, 3.4076741399765016, 3.405198483308156, 3.401854342778524, 3.402951658566793, 3.3966951292355856, 3.3990594046910605, 3.4059885528882345], 'val': [3.4106269385814665, 3.4110558259487154, 3.4131155688762664, 3.394641937017441, 3.4037806293964388, 3.396805992603302, 3.39899422621727, 3.3964700493812563, 3.391000623703003, 3.3899047250747683, 3.399757505655289]}\n",
      "Training [48%]\n",
      "Training loss {'train': [3.419082154750824, 3.4161743919054666, 3.414167223453522, 3.4121784661610923, 3.4076741399765016, 3.405198483308156, 3.401854342778524, 3.402951658566793, 3.3966951292355856, 3.3990594046910605, 3.4059885528882345, 3.3984674027760824], 'val': [3.4106269385814665, 3.4110558259487154, 3.4131155688762664, 3.394641937017441, 3.4037806293964388, 3.396805992603302, 3.39899422621727, 3.3964700493812563, 3.391000623703003, 3.3899047250747683, 3.399757505655289, 3.373225272655487]}\n",
      "Training [52%]\n",
      "Training loss {'train': [3.419082154750824, 3.4161743919054666, 3.414167223453522, 3.4121784661610923, 3.4076741399765016, 3.405198483308156, 3.401854342778524, 3.402951658566793, 3.3966951292355856, 3.3990594046910605, 3.4059885528882345, 3.3984674027760824, 3.392998346010844], 'val': [3.4106269385814665, 3.4110558259487154, 3.4131155688762664, 3.394641937017441, 3.4037806293964388, 3.396805992603302, 3.39899422621727, 3.3964700493812563, 3.391000623703003, 3.3899047250747683, 3.399757505655289, 3.373225272655487, 3.3685355451107024]}\n",
      "Training [56%]\n",
      "Training loss {'train': [3.419082154750824, 3.4161743919054666, 3.414167223453522, 3.4121784661610923, 3.4076741399765016, 3.405198483308156, 3.401854342778524, 3.402951658566793, 3.3966951292355856, 3.3990594046910605, 3.4059885528882345, 3.3984674027760824, 3.392998346010844, 3.3908170895576477], 'val': [3.4106269385814665, 3.4110558259487154, 3.4131155688762664, 3.394641937017441, 3.4037806293964388, 3.396805992603302, 3.39899422621727, 3.3964700493812563, 3.391000623703003, 3.3899047250747683, 3.399757505655289, 3.373225272655487, 3.3685355451107024, 3.3833798122406007]}\n",
      "Training [60%]\n",
      "Training loss {'train': [3.419082154750824, 3.4161743919054666, 3.414167223453522, 3.4121784661610923, 3.4076741399765016, 3.405198483308156, 3.401854342778524, 3.402951658566793, 3.3966951292355856, 3.3990594046910605, 3.4059885528882345, 3.3984674027760824, 3.392998346010844, 3.3908170895576477, 3.409465924580892], 'val': [3.4106269385814665, 3.4110558259487154, 3.4131155688762664, 3.394641937017441, 3.4037806293964388, 3.396805992603302, 3.39899422621727, 3.3964700493812563, 3.391000623703003, 3.3899047250747683, 3.399757505655289, 3.373225272655487, 3.3685355451107024, 3.3833798122406007, 3.443824405193329]}\n",
      "Training [64%]\n",
      "Training loss {'train': [3.419082154750824, 3.4161743919054666, 3.414167223453522, 3.4121784661610923, 3.4076741399765016, 3.405198483308156, 3.401854342778524, 3.402951658566793, 3.3966951292355856, 3.3990594046910605, 3.4059885528882345, 3.3984674027760824, 3.392998346010844, 3.3908170895576477, 3.409465924580892, 3.443815152009328], 'val': [3.4106269385814665, 3.4110558259487154, 3.4131155688762664, 3.394641937017441, 3.4037806293964388, 3.396805992603302, 3.39899422621727, 3.3964700493812563, 3.391000623703003, 3.3899047250747683, 3.399757505655289, 3.373225272655487, 3.3685355451107024, 3.3833798122406007, 3.443824405193329, 3.443830878019333]}\n",
      "Training [68%]\n",
      "Training loss {'train': [3.419082154750824, 3.4161743919054666, 3.414167223453522, 3.4121784661610923, 3.4076741399765016, 3.405198483308156, 3.401854342778524, 3.402951658566793, 3.3966951292355856, 3.3990594046910605, 3.4059885528882345, 3.3984674027760824, 3.392998346010844, 3.3908170895576477, 3.409465924580892, 3.443815152009328, 3.443820195198059], 'val': [3.4106269385814665, 3.4110558259487154, 3.4131155688762664, 3.394641937017441, 3.4037806293964388, 3.396805992603302, 3.39899422621727, 3.3964700493812563, 3.391000623703003, 3.3899047250747683, 3.399757505655289, 3.373225272655487, 3.3685355451107024, 3.3833798122406007, 3.443824405193329, 3.443830878019333, 3.4438388812541962]}\n",
      "Training [72%]\n",
      "Training loss {'train': [3.419082154750824, 3.4161743919054666, 3.414167223453522, 3.4121784661610923, 3.4076741399765016, 3.405198483308156, 3.401854342778524, 3.402951658566793, 3.3966951292355856, 3.3990594046910605, 3.4059885528882345, 3.3984674027760824, 3.392998346010844, 3.3908170895576477, 3.409465924580892, 3.443815152009328, 3.443820195198059, 3.443830820878347], 'val': [3.4106269385814665, 3.4110558259487154, 3.4131155688762664, 3.394641937017441, 3.4037806293964388, 3.396805992603302, 3.39899422621727, 3.3964700493812563, 3.391000623703003, 3.3899047250747683, 3.399757505655289, 3.373225272655487, 3.3685355451107024, 3.3833798122406007, 3.443824405193329, 3.443830878019333, 3.4438388812541962, 3.443830803155899]}\n",
      "Training [76%]\n",
      "Training loss {'train': [3.419082154750824, 3.4161743919054666, 3.414167223453522, 3.4121784661610923, 3.4076741399765016, 3.405198483308156, 3.401854342778524, 3.402951658566793, 3.3966951292355856, 3.3990594046910605, 3.4059885528882345, 3.3984674027760824, 3.392998346010844, 3.3908170895576477, 3.409465924580892, 3.443815152009328, 3.443820195198059, 3.443830820878347, 3.4438259108861287], 'val': [3.4106269385814665, 3.4110558259487154, 3.4131155688762664, 3.394641937017441, 3.4037806293964388, 3.396805992603302, 3.39899422621727, 3.3964700493812563, 3.391000623703003, 3.3899047250747683, 3.399757505655289, 3.373225272655487, 3.3685355451107024, 3.3833798122406007, 3.443824405193329, 3.443830878019333, 3.4438388812541962, 3.443830803155899, 3.4438120200634]}\n"
     ]
    },
    {
     "name": "stdout",
     "output_type": "stream",
     "text": [
      "Training [80%]\n",
      "Training loss {'train': [3.419082154750824, 3.4161743919054666, 3.414167223453522, 3.4121784661610923, 3.4076741399765016, 3.405198483308156, 3.401854342778524, 3.402951658566793, 3.3966951292355856, 3.3990594046910605, 3.4059885528882345, 3.3984674027760824, 3.392998346010844, 3.3908170895576477, 3.409465924580892, 3.443815152009328, 3.443820195198059, 3.443830820878347, 3.4438259108861287, 3.443826919078827], 'val': [3.4106269385814665, 3.4110558259487154, 3.4131155688762664, 3.394641937017441, 3.4037806293964388, 3.396805992603302, 3.39899422621727, 3.3964700493812563, 3.391000623703003, 3.3899047250747683, 3.399757505655289, 3.373225272655487, 3.3685355451107024, 3.3833798122406007, 3.443824405193329, 3.443830878019333, 3.4438388812541962, 3.443830803155899, 3.4438120200634, 3.44381880235672]}\n",
      "Training [84%]\n",
      "Training loss {'train': [3.419082154750824, 3.4161743919054666, 3.414167223453522, 3.4121784661610923, 3.4076741399765016, 3.405198483308156, 3.401854342778524, 3.402951658566793, 3.3966951292355856, 3.3990594046910605, 3.4059885528882345, 3.3984674027760824, 3.392998346010844, 3.3908170895576477, 3.409465924580892, 3.443815152009328, 3.443820195198059, 3.443830820878347, 3.4438259108861287, 3.443826919078827, 3.443825048128764], 'val': [3.4106269385814665, 3.4110558259487154, 3.4131155688762664, 3.394641937017441, 3.4037806293964388, 3.396805992603302, 3.39899422621727, 3.3964700493812563, 3.391000623703003, 3.3899047250747683, 3.399757505655289, 3.373225272655487, 3.3685355451107024, 3.3833798122406007, 3.443824405193329, 3.443830878019333, 3.4438388812541962, 3.443830803155899, 3.4438120200634, 3.44381880235672, 3.443831010580063]}\n",
      "Training [88%]\n",
      "Training loss {'train': [3.419082154750824, 3.4161743919054666, 3.414167223453522, 3.4121784661610923, 3.4076741399765016, 3.405198483308156, 3.401854342778524, 3.402951658566793, 3.3966951292355856, 3.3990594046910605, 3.4059885528882345, 3.3984674027760824, 3.392998346010844, 3.3908170895576477, 3.409465924580892, 3.443815152009328, 3.443820195198059, 3.443830820878347, 3.4438259108861287, 3.443826919078827, 3.443825048128764, 3.443812373797099], 'val': [3.4106269385814665, 3.4110558259487154, 3.4131155688762664, 3.394641937017441, 3.4037806293964388, 3.396805992603302, 3.39899422621727, 3.3964700493812563, 3.391000623703003, 3.3899047250747683, 3.399757505655289, 3.373225272655487, 3.3685355451107024, 3.3833798122406007, 3.443824405193329, 3.443830878019333, 3.4438388812541962, 3.443830803155899, 3.4438120200634, 3.44381880235672, 3.443831010580063, 3.443823091506958]}\n",
      "Training [92%]\n",
      "Training loss {'train': [3.419082154750824, 3.4161743919054666, 3.414167223453522, 3.4121784661610923, 3.4076741399765016, 3.405198483308156, 3.401854342778524, 3.402951658566793, 3.3966951292355856, 3.3990594046910605, 3.4059885528882345, 3.3984674027760824, 3.392998346010844, 3.3908170895576477, 3.409465924580892, 3.443815152009328, 3.443820195198059, 3.443830820878347, 3.4438259108861287, 3.443826919078827, 3.443825048128764, 3.443812373797099, 3.4438100822766624], 'val': [3.4106269385814665, 3.4110558259487154, 3.4131155688762664, 3.394641937017441, 3.4037806293964388, 3.396805992603302, 3.39899422621727, 3.3964700493812563, 3.391000623703003, 3.3899047250747683, 3.399757505655289, 3.373225272655487, 3.3685355451107024, 3.3833798122406007, 3.443824405193329, 3.443830878019333, 3.4438388812541962, 3.443830803155899, 3.4438120200634, 3.44381880235672, 3.443831010580063, 3.443823091506958, 3.443809915304184]}\n",
      "Training [96%]\n",
      "Training loss {'train': [3.419082154750824, 3.4161743919054666, 3.414167223453522, 3.4121784661610923, 3.4076741399765016, 3.405198483308156, 3.401854342778524, 3.402951658566793, 3.3966951292355856, 3.3990594046910605, 3.4059885528882345, 3.3984674027760824, 3.392998346010844, 3.3908170895576477, 3.409465924580892, 3.443815152009328, 3.443820195198059, 3.443830820878347, 3.4438259108861287, 3.443826919078827, 3.443825048128764, 3.443812373797099, 3.4438100822766624, 3.443819459279378], 'val': [3.4106269385814665, 3.4110558259487154, 3.4131155688762664, 3.394641937017441, 3.4037806293964388, 3.396805992603302, 3.39899422621727, 3.3964700493812563, 3.391000623703003, 3.3899047250747683, 3.399757505655289, 3.373225272655487, 3.3685355451107024, 3.3833798122406007, 3.443824405193329, 3.443830878019333, 3.4438388812541962, 3.443830803155899, 3.4438120200634, 3.44381880235672, 3.443831010580063, 3.443823091506958, 3.443809915304184, 3.4438177824020384]}\n",
      "Training [100%]\n",
      "Training loss {'train': [3.419082154750824, 3.4161743919054666, 3.414167223453522, 3.4121784661610923, 3.4076741399765016, 3.405198483308156, 3.401854342778524, 3.402951658566793, 3.3966951292355856, 3.3990594046910605, 3.4059885528882345, 3.3984674027760824, 3.392998346010844, 3.3908170895576477, 3.409465924580892, 3.443815152009328, 3.443820195198059, 3.443830820878347, 3.4438259108861287, 3.443826919078827, 3.443825048128764, 3.443812373797099, 3.4438100822766624, 3.443819459279378, 3.4438183568318683], 'val': [3.4106269385814665, 3.4110558259487154, 3.4131155688762664, 3.394641937017441, 3.4037806293964388, 3.396805992603302, 3.39899422621727, 3.3964700493812563, 3.391000623703003, 3.3899047250747683, 3.399757505655289, 3.373225272655487, 3.3685355451107024, 3.3833798122406007, 3.443824405193329, 3.443830878019333, 3.4438388812541962, 3.443830803155899, 3.4438120200634, 3.44381880235672, 3.443831010580063, 3.443823091506958, 3.443809915304184, 3.4438177824020384, 3.443816572189331]}\n"
     ]
    }
   ],
   "source": [
    "epochs = 25\n",
    "loss_func = nn.CrossEntropyLoss()\n",
    "\n",
    "loss_results = {\n",
    "    'train': [],\n",
    "    'val': []\n",
    "}\n",
    "\n",
    "loaders = {\n",
    "    'train': train_loader,\n",
    "    'val': test_loader\n",
    "}\n",
    "\n",
    "for epoch in range(epochs):\n",
    "    total_loss = {\n",
    "        'train': [],\n",
    "        'val': []\n",
    "    }\n",
    "    \n",
    "    for phase in ['train', 'val']:\n",
    "        if phase == 'train':\n",
    "            network.train(True)\n",
    "        else:\n",
    "            network.train(False)\n",
    "        \n",
    "        for batch_idx, (data, target) in enumerate(loaders[phase]):\n",
    "            optimizer.zero_grad()\n",
    "            output = network(data)\n",
    "            loss = loss_func(output, target)\n",
    "            \n",
    "            if phase == 'train':\n",
    "                loss.backward()\n",
    "                optimizer.step()\n",
    "\n",
    "            total_loss[phase].append(loss.item())\n",
    "\n",
    "#             total_train_loss.append(loss.item())\n",
    "\n",
    "        loss_results[phase].append(sum(total_loss[phase]) / len(total_loss[phase]))\n",
    "\n",
    "#         loss_train_list.append(sum(total_train_loss) / len(total_train_loss))\n",
    "    progress = 100.0 * (epoch + 1) / epochs\n",
    "    \n",
    "    print(f'Training [{int(progress)}%]')\n",
    "    print(f'Training loss {loss_results}')\n",
    "#     print(f'Training loss {loss_results['train'][-1]}')\n",
    "#     print(f'Validation loss {loss_results['val'][-1]}')\n",
    "#     print(f'Training [{int(progress)}%]\\tTraining loss {loss_results['train'][-1]}\\tValidation loss {loss_results['val'][-1]}')\n",
    "    "
   ]
  },
  {
   "cell_type": "code",
   "execution_count": 42,
   "metadata": {},
   "outputs": [
    {
     "data": {
      "text/plain": [
       "Text(0, 0.5, 'loss')"
      ]
     },
     "execution_count": 42,
     "metadata": {},
     "output_type": "execute_result"
    },
    {
     "data": {
      "image/png": "[encoded data removed]",
      "text/plain": [
       "<Figure size 432x288 with 1 Axes>"
      ]
     },
     "metadata": {
      "needs_background": "light"
     },
     "output_type": "display_data"
    }
   ],
   "source": [
    "plt.plot(loss_results['val'])\n",
    "plt.title(f'Hybrid NN training convergence for {NUM_QUBITS}-qubits')\n",
    "plt.xlabel('epoch')\n",
    "plt.ylabel('loss')"
   ]
  },
  {
   "cell_type": "markdown",
   "metadata": {},
   "source": [
    "# Test accuracy"
   ]
  },
  {
   "cell_type": "code",
   "execution_count": null,
   "metadata": {},
   "outputs": [],
   "source": [
    "accuracy = 0\n",
    "number = 0\n",
    "for batch_idx, (data, target) in enumerate(test_loader):\n",
    "    number += 1\n",
    "    output = network.predict(data).item()\n",
    "    accuracy += (output == target[0].item())*1"
   ]
  },
  {
   "cell_type": "code",
   "execution_count": null,
   "metadata": {},
   "outputs": [],
   "source": [
    "print(f'Performance on test data: {accuracy}/{number} = {accuracy/number*100}%')"
   ]
  },
  {
   "cell_type": "code",
   "execution_count": null,
   "metadata": {},
   "outputs": [],
   "source": [
    "n_sample_shape = (8, 6)\n",
    "count = 0\n",
    "fig, axes = plt.subplots(nrows=n_sample_shape[0], ncols=n_sample_shape[1], figsize=(10, 2*n_sample_shape[0]))\n",
    "\n",
    "network.eval()\n",
    "with torch.no_grad():\n",
    "    for batch_idx, (data, target) in enumerate(test_loader):\n",
    "        if count == n_sample_shape[0]*n_sample_shape[1]:\n",
    "            break\n",
    "        \n",
    "        prediction = network.predict(data).item()\n",
    "        \n",
    "        axes[count // n_sample_shape[1]][count % n_sample_shape[1]].imshow(data[0].numpy().squeeze(), cmap='gray')\n",
    "        \n",
    "        axes[count // n_sample_shape[1]][count % n_sample_shape[1]].set_xticks([])\n",
    "        axes[count // n_sample_shape[1]][count % n_sample_shape[1]].set_yticks([])\n",
    "        axes[count // n_sample_shape[1]][count % n_sample_shape[1]].set_title(f'Predicted {prediction}')\n",
    "        \n",
    "        count += 1"
   ]
  }
 ],
 "metadata": {
  "kernelspec": {
   "display_name": "Python 3",
   "language": "python",
   "name": "python3"
  },
  "language_info": {
   "codemirror_mode": {
    "name": "ipython",
    "version": 3
   },
   "file_extension": ".py",
   "mimetype": "text/x-python",
   "name": "python",
   "nbconvert_exporter": "python",
   "pygments_lexer": "ipython3",
   "version": "3.8.6"
  }
 },
 "nbformat": 4,
 "nbformat_minor": 4
}
